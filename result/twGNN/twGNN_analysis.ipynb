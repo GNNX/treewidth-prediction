{
 "cells": [
  {
   "cell_type": "code",
   "execution_count": 2,
   "metadata": {},
   "outputs": [],
   "source": [
    "import json\n",
    "import glob\n",
    "\n",
    "import numpy as np\n",
    "import matplotlib.pyplot as plt\n",
    "import pandas as pd\n",
    "\n",
    "%matplotlib inline"
   ]
  },
  {
   "cell_type": "code",
   "execution_count": 139,
   "metadata": {},
   "outputs": [],
   "source": [
    "def ave_abs_loss(df, minus=0):\n",
    "    df_found = df.query('not time == \"TimeOut\"')\n",
    "    real_val = df_found[\"tw\"].to_numpy()\n",
    "    est_val = df_found[\"evaltw\"].to_numpy() - minus\n",
    "\n",
    "    \n",
    "    return np.average(np.absolute(est_val - real_val)), np.max(np.absolute(est_val - real_val))"
   ]
  },
  {
   "cell_type": "code",
   "execution_count": 203,
   "metadata": {},
   "outputs": [
    {
     "name": "stdout",
     "output_type": "stream",
     "text": [
      "(2.2222222222222223, 8.0) (2.2666666666666666, 8.0) (2.0, 8.0)\n"
     ]
    }
   ],
   "source": [
    "df1 = pd.read_csv(\"both_5_sum_sum_BinaryClassification.dat\", delimiter='\\t')\n",
    "df2 = pd.read_csv(\"both_7_sum_sum_BinaryClassification.dat\", delimiter='\\t')\n",
    "df3 = pd.read_csv(\"both_9_sum_sum_BinaryClassification.dat\", delimiter='\\t')\n",
    "\n",
    "print(ave_abs_loss(df1, 1), ave_abs_loss(df2, 1), ave_abs_loss(df3, 1))"
   ]
  },
  {
   "cell_type": "code",
   "execution_count": 204,
   "metadata": {},
   "outputs": [
    {
     "name": "stdout",
     "output_type": "stream",
     "text": [
      "(1.625, 5.0) (1.5, 4.0) (0.625, 2.0)\n"
     ]
    }
   ],
   "source": [
    "df1 = pd.read_csv(\"lower_5_sum_sum_BinaryClassification.dat\", delimiter='\\t')\n",
    "df2 = pd.read_csv(\"lower_7_sum_sum_BinaryClassification.dat\", delimiter='\\t')\n",
    "df3 = pd.read_csv(\"lower_9_sum_sum_BinaryClassification.dat\", delimiter='\\t')\n",
    "\n",
    "print(ave_abs_loss(df1, 1), ave_abs_loss(df2, 1), ave_abs_loss(df3, 1))"
   ]
  },
  {
   "cell_type": "code",
   "execution_count": 205,
   "metadata": {},
   "outputs": [
    {
     "name": "stdout",
     "output_type": "stream",
     "text": [
      "(0.2, 1.0) (0.1111111111111111, 1.0) (0.1111111111111111, 1.0)\n"
     ]
    }
   ],
   "source": [
    "df1 = pd.read_csv(\"upper_5_sum_sum_BinaryClassification.dat\", delimiter='\\t')\n",
    "df2 = pd.read_csv(\"upper_7_sum_sum_BinaryClassification.dat\", delimiter='\\t')\n",
    "df3 = pd.read_csv(\"upper_9_sum_sum_BinaryClassification.dat\", delimiter='\\t')\n",
    "\n",
    "print(ave_abs_loss(df1), ave_abs_loss(df2), ave_abs_loss(df3))"
   ]
  },
  {
   "cell_type": "code",
   "execution_count": 18,
   "metadata": {
    "scrolled": false
   },
   "outputs": [],
   "source": [
    "df1 = pd.read_csv(\"both_5_sum_sum_BinaryClassification.dat\", delimiter='\\t')\n",
    "df1 = df1.query('not time == \"TimeOut\"')\n",
    "df1[\"evaltw\"] = df1[\"evaltw\"] - 1 # have to execute this lower and both \n",
    "df1 = df1.drop(\"ID\", axis=1)"
   ]
  },
  {
   "cell_type": "code",
   "execution_count": 19,
   "metadata": {},
   "outputs": [
    {
     "data": {
      "text/plain": [
       "15"
      ]
     },
     "execution_count": 19,
     "metadata": {},
     "output_type": "execute_result"
    }
   ],
   "source": [
    "len(df1.query('prunenum > 0'))"
   ]
  },
  {
   "cell_type": "code",
   "execution_count": 15,
   "metadata": {},
   "outputs": [],
   "source": [
    "df2 = pd.read_csv(\"lower_5_sum_sum_BinaryClassification.dat\", delimiter='\\t')\n",
    "df2 = df2.query('not time == \"TimeOut\"')\n",
    "df2[\"evaltw\"] = df2[\"evaltw\"] - 1 # have to execute this lower and both \n",
    "df2 = df2.drop(\"ID\", axis=1).drop('|V|', axis=1).drop(\"|E|\", axis=1).drop(\"tw\", axis=1)"
   ]
  },
  {
   "cell_type": "code",
   "execution_count": 16,
   "metadata": {},
   "outputs": [
    {
     "data": {
      "text/plain": [
       "5"
      ]
     },
     "execution_count": 16,
     "metadata": {},
     "output_type": "execute_result"
    }
   ],
   "source": [
    "len(df2.query('prunenum > 0'))"
   ]
  },
  {
   "cell_type": "code",
   "execution_count": 255,
   "metadata": {},
   "outputs": [],
   "source": [
    "df3 = pd.read_csv(\"upper_5_sum_sum_BinaryClassification.dat\", delimiter='\\t')\n",
    "df3 = df3.query('not time == \"TimeOut\"')\n",
    "df3 = df3.drop(\"ID\", axis=1).drop('|V|', axis=1).drop(\"|E|\", axis=1).drop(\"tw\", axis=1)"
   ]
  },
  {
   "cell_type": "code",
   "execution_count": 17,
   "metadata": {},
   "outputs": [
    {
     "ename": "NameError",
     "evalue": "name 'df3' is not defined",
     "output_type": "error",
     "traceback": [
      "\u001b[0;31m---------------------------------------------------------------------------\u001b[0m",
      "\u001b[0;31mNameError\u001b[0m                                 Traceback (most recent call last)",
      "\u001b[0;32m<ipython-input-17-77996847316c>\u001b[0m in \u001b[0;36m<module>\u001b[0;34m\u001b[0m\n\u001b[0;32m----> 1\u001b[0;31m \u001b[0mdf3\u001b[0m\u001b[0;34m.\u001b[0m\u001b[0mquery\u001b[0m\u001b[0;34m(\u001b[0m\u001b[0;34m'prunenum > 0'\u001b[0m\u001b[0;34m)\u001b[0m\u001b[0;34m\u001b[0m\u001b[0;34m\u001b[0m\u001b[0m\n\u001b[0m",
      "\u001b[0;31mNameError\u001b[0m: name 'df3' is not defined"
     ]
    }
   ],
   "source": [
    "df3.query('prunenum > 0')"
   ]
  },
  {
   "cell_type": "code",
   "execution_count": 260,
   "metadata": {},
   "outputs": [
    {
     "name": "stdout",
     "output_type": "stream",
     "text": [
      "9\n"
     ]
    }
   ],
   "source": [
    "df_ord = pd.read_csv(\"ord_DP_sum_sum_BinaryClassification.dat\", delimiter='\\t')\n",
    "df_ord = df_ord.query('not time == \"TimeOut\"')\n",
    "df_ord[\"evaltw\"] = df_ord[\"evaltw\"] - 1 # have to execute this lower and both \n",
    "df_ord = df_ord.drop(\"ID\", axis=1).drop('|V|', axis=1).drop(\"|E|\", axis=1).drop(\"tw\", axis=1)\n",
    "print(len(df_ord))"
   ]
  },
  {
   "cell_type": "code",
   "execution_count": 249,
   "metadata": {
    "scrolled": false
   },
   "outputs": [
    {
     "data": {
      "text/html": [
       "<div>\n",
       "<style scoped>\n",
       "    .dataframe tbody tr th:only-of-type {\n",
       "        vertical-align: middle;\n",
       "    }\n",
       "\n",
       "    .dataframe tbody tr th {\n",
       "        vertical-align: top;\n",
       "    }\n",
       "\n",
       "    .dataframe thead th {\n",
       "        text-align: right;\n",
       "    }\n",
       "</style>\n",
       "<table border=\"1\" class=\"dataframe\">\n",
       "  <thead>\n",
       "    <tr style=\"text-align: right;\">\n",
       "      <th></th>\n",
       "      <th>|V|</th>\n",
       "      <th>|E|</th>\n",
       "      <th>tw</th>\n",
       "      <th>time</th>\n",
       "      <th>evaltw</th>\n",
       "      <th>prunenum</th>\n",
       "      <th>funccallnum</th>\n",
       "      <th>evalGNNtime</th>\n",
       "      <th>time</th>\n",
       "      <th>evaltw</th>\n",
       "      <th>prunenum</th>\n",
       "      <th>funccallnum</th>\n",
       "      <th>evalGNNtime</th>\n",
       "      <th>time</th>\n",
       "      <th>evaltw</th>\n",
       "      <th>prunenum</th>\n",
       "      <th>funccallnum</th>\n",
       "      <th>evalGNNtime</th>\n",
       "      <th>time</th>\n",
       "      <th>evaltw</th>\n",
       "      <th>funccallnum</th>\n",
       "    </tr>\n",
       "  </thead>\n",
       "  <tbody>\n",
       "    <tr>\n",
       "      <td>1</td>\n",
       "      <td>10</td>\n",
       "      <td>25</td>\n",
       "      <td>5.0</td>\n",
       "      <td>4.6550610065460205</td>\n",
       "      <td>3.0</td>\n",
       "      <td>1.0</td>\n",
       "      <td>595.0</td>\n",
       "      <td>4.485630</td>\n",
       "      <td>4.559659004211426</td>\n",
       "      <td>3.0</td>\n",
       "      <td>1.0</td>\n",
       "      <td>595.0</td>\n",
       "      <td>4.385931</td>\n",
       "      <td>12.424314260482788</td>\n",
       "      <td>5.0</td>\n",
       "      <td>0.0</td>\n",
       "      <td>2828.0</td>\n",
       "      <td>12.011905</td>\n",
       "      <td>0.3376901149749756</td>\n",
       "      <td>5.0</td>\n",
       "      <td>4728.0</td>\n",
       "    </tr>\n",
       "    <tr>\n",
       "      <td>4</td>\n",
       "      <td>10</td>\n",
       "      <td>32</td>\n",
       "      <td>6.0</td>\n",
       "      <td>0.14494585990905762</td>\n",
       "      <td>5.0</td>\n",
       "      <td>5.0</td>\n",
       "      <td>7.0</td>\n",
       "      <td>0.144667</td>\n",
       "      <td>9.779730081558228</td>\n",
       "      <td>4.0</td>\n",
       "      <td>1.0</td>\n",
       "      <td>1867.0</td>\n",
       "      <td>9.305315</td>\n",
       "      <td>15.087620973587036</td>\n",
       "      <td>6.0</td>\n",
       "      <td>0.0</td>\n",
       "      <td>3879.0</td>\n",
       "      <td>14.567355</td>\n",
       "      <td>0.572840690612793</td>\n",
       "      <td>6.0</td>\n",
       "      <td>8273.0</td>\n",
       "    </tr>\n",
       "    <tr>\n",
       "      <td>25</td>\n",
       "      <td>9</td>\n",
       "      <td>30</td>\n",
       "      <td>6.0</td>\n",
       "      <td>0.24819302558898926</td>\n",
       "      <td>5.0</td>\n",
       "      <td>5.0</td>\n",
       "      <td>35.0</td>\n",
       "      <td>0.244163</td>\n",
       "      <td>3.22005295753479</td>\n",
       "      <td>3.0</td>\n",
       "      <td>1.0</td>\n",
       "      <td>422.0</td>\n",
       "      <td>3.130581</td>\n",
       "      <td>8.07921314239502</td>\n",
       "      <td>6.0</td>\n",
       "      <td>0.0</td>\n",
       "      <td>2012.0</td>\n",
       "      <td>7.803773</td>\n",
       "      <td>0.2776315212249756</td>\n",
       "      <td>6.0</td>\n",
       "      <td>4716.0</td>\n",
       "    </tr>\n",
       "    <tr>\n",
       "      <td>28</td>\n",
       "      <td>13</td>\n",
       "      <td>30</td>\n",
       "      <td>3.0</td>\n",
       "      <td>9.067449569702148</td>\n",
       "      <td>3.0</td>\n",
       "      <td>0.0</td>\n",
       "      <td>1548.0</td>\n",
       "      <td>8.497282</td>\n",
       "      <td>11.38636827468872</td>\n",
       "      <td>3.0</td>\n",
       "      <td>0.0</td>\n",
       "      <td>1548.0</td>\n",
       "      <td>10.646956</td>\n",
       "      <td>12.900477886199951</td>\n",
       "      <td>3.0</td>\n",
       "      <td>0.0</td>\n",
       "      <td>1641.0</td>\n",
       "      <td>12.218380</td>\n",
       "      <td>0.29578089714050293</td>\n",
       "      <td>3.0</td>\n",
       "      <td>1548.0</td>\n",
       "    </tr>\n",
       "    <tr>\n",
       "      <td>33</td>\n",
       "      <td>15</td>\n",
       "      <td>16</td>\n",
       "      <td>2.0</td>\n",
       "      <td>2.4202187061309814</td>\n",
       "      <td>2.0</td>\n",
       "      <td>0.0</td>\n",
       "      <td>376.0</td>\n",
       "      <td>2.286427</td>\n",
       "      <td>3.333850383758545</td>\n",
       "      <td>2.0</td>\n",
       "      <td>0.0</td>\n",
       "      <td>376.0</td>\n",
       "      <td>3.081633</td>\n",
       "      <td>5.869269847869873</td>\n",
       "      <td>2.0</td>\n",
       "      <td>0.0</td>\n",
       "      <td>556.0</td>\n",
       "      <td>5.620090</td>\n",
       "      <td>0.08192944526672363</td>\n",
       "      <td>2.0</td>\n",
       "      <td>376.0</td>\n",
       "    </tr>\n",
       "    <tr>\n",
       "      <td>35</td>\n",
       "      <td>14</td>\n",
       "      <td>80</td>\n",
       "      <td>10.0</td>\n",
       "      <td>0.9591560363769531</td>\n",
       "      <td>7.0</td>\n",
       "      <td>7.0</td>\n",
       "      <td>83.0</td>\n",
       "      <td>0.894275</td>\n",
       "      <td>109.03337693214417</td>\n",
       "      <td>5.0</td>\n",
       "      <td>1.0</td>\n",
       "      <td>22372.0</td>\n",
       "      <td>97.757014</td>\n",
       "      <td>287.8694050312042</td>\n",
       "      <td>10.0</td>\n",
       "      <td>0.0</td>\n",
       "      <td>109454.0</td>\n",
       "      <td>267.033130</td>\n",
       "      <td>40.62552881240845</td>\n",
       "      <td>10.0</td>\n",
       "      <td>402916.0</td>\n",
       "    </tr>\n",
       "    <tr>\n",
       "      <td>38</td>\n",
       "      <td>24</td>\n",
       "      <td>23</td>\n",
       "      <td>1.0</td>\n",
       "      <td>0.5272786617279053</td>\n",
       "      <td>1.0</td>\n",
       "      <td>0.0</td>\n",
       "      <td>46.0</td>\n",
       "      <td>0.444152</td>\n",
       "      <td>0.6932835578918457</td>\n",
       "      <td>1.0</td>\n",
       "      <td>0.0</td>\n",
       "      <td>46.0</td>\n",
       "      <td>0.627885</td>\n",
       "      <td>10.1383056640625</td>\n",
       "      <td>2.0</td>\n",
       "      <td>0.0</td>\n",
       "      <td>805.0</td>\n",
       "      <td>9.572774</td>\n",
       "      <td>0.024300336837768555</td>\n",
       "      <td>1.0</td>\n",
       "      <td>46.0</td>\n",
       "    </tr>\n",
       "    <tr>\n",
       "      <td>40</td>\n",
       "      <td>11</td>\n",
       "      <td>18</td>\n",
       "      <td>4.0</td>\n",
       "      <td>5.73015284538269</td>\n",
       "      <td>3.0</td>\n",
       "      <td>1.0</td>\n",
       "      <td>909.0</td>\n",
       "      <td>5.499749</td>\n",
       "      <td>5.655117988586426</td>\n",
       "      <td>3.0</td>\n",
       "      <td>1.0</td>\n",
       "      <td>909.0</td>\n",
       "      <td>5.361710</td>\n",
       "      <td>15.424558401107788</td>\n",
       "      <td>4.0</td>\n",
       "      <td>0.0</td>\n",
       "      <td>3207.0</td>\n",
       "      <td>14.662740</td>\n",
       "      <td>0.34940552711486816</td>\n",
       "      <td>4.0</td>\n",
       "      <td>4019.0</td>\n",
       "    </tr>\n",
       "  </tbody>\n",
       "</table>\n",
       "</div>"
      ],
      "text/plain": [
       "    |V|  |E|    tw                 time  evaltw  prunenum  funccallnum  \\\n",
       "1    10   25   5.0   4.6550610065460205     3.0       1.0        595.0   \n",
       "4    10   32   6.0  0.14494585990905762     5.0       5.0          7.0   \n",
       "25    9   30   6.0  0.24819302558898926     5.0       5.0         35.0   \n",
       "28   13   30   3.0    9.067449569702148     3.0       0.0       1548.0   \n",
       "33   15   16   2.0   2.4202187061309814     2.0       0.0        376.0   \n",
       "35   14   80  10.0   0.9591560363769531     7.0       7.0         83.0   \n",
       "38   24   23   1.0   0.5272786617279053     1.0       0.0         46.0   \n",
       "40   11   18   4.0     5.73015284538269     3.0       1.0        909.0   \n",
       "\n",
       "    evalGNNtime                time  evaltw  prunenum  funccallnum  \\\n",
       "1      4.485630   4.559659004211426     3.0       1.0        595.0   \n",
       "4      0.144667   9.779730081558228     4.0       1.0       1867.0   \n",
       "25     0.244163    3.22005295753479     3.0       1.0        422.0   \n",
       "28     8.497282   11.38636827468872     3.0       0.0       1548.0   \n",
       "33     2.286427   3.333850383758545     2.0       0.0        376.0   \n",
       "35     0.894275  109.03337693214417     5.0       1.0      22372.0   \n",
       "38     0.444152  0.6932835578918457     1.0       0.0         46.0   \n",
       "40     5.499749   5.655117988586426     3.0       1.0        909.0   \n",
       "\n",
       "    evalGNNtime                time  evaltw  prunenum  funccallnum  \\\n",
       "1      4.385931  12.424314260482788     5.0       0.0       2828.0   \n",
       "4      9.305315  15.087620973587036     6.0       0.0       3879.0   \n",
       "25     3.130581    8.07921314239502     6.0       0.0       2012.0   \n",
       "28    10.646956  12.900477886199951     3.0       0.0       1641.0   \n",
       "33     3.081633   5.869269847869873     2.0       0.0        556.0   \n",
       "35    97.757014   287.8694050312042    10.0       0.0     109454.0   \n",
       "38     0.627885    10.1383056640625     2.0       0.0        805.0   \n",
       "40     5.361710  15.424558401107788     4.0       0.0       3207.0   \n",
       "\n",
       "    evalGNNtime                  time  evaltw  funccallnum  \n",
       "1     12.011905    0.3376901149749756     5.0       4728.0  \n",
       "4     14.567355     0.572840690612793     6.0       8273.0  \n",
       "25     7.803773    0.2776315212249756     6.0       4716.0  \n",
       "28    12.218380   0.29578089714050293     3.0       1548.0  \n",
       "33     5.620090   0.08192944526672363     2.0        376.0  \n",
       "35   267.033130     40.62552881240845    10.0     402916.0  \n",
       "38     9.572774  0.024300336837768555     1.0         46.0  \n",
       "40    14.662740   0.34940552711486816     4.0       4019.0  "
      ]
     },
     "execution_count": 249,
     "metadata": {},
     "output_type": "execute_result"
    }
   ],
   "source": [
    "df_v_in = pd.concat([df1, df2, df3, df_ord], join='inner', axis=1)\n",
    "df_v_in"
   ]
  },
  {
   "cell_type": "code",
   "execution_count": 267,
   "metadata": {},
   "outputs": [
    {
     "data": {
      "text/html": [
       "<div>\n",
       "<style scoped>\n",
       "    .dataframe tbody tr th:only-of-type {\n",
       "        vertical-align: middle;\n",
       "    }\n",
       "\n",
       "    .dataframe tbody tr th {\n",
       "        vertical-align: top;\n",
       "    }\n",
       "\n",
       "    .dataframe thead th {\n",
       "        text-align: right;\n",
       "    }\n",
       "</style>\n",
       "<table border=\"1\" class=\"dataframe\">\n",
       "  <thead>\n",
       "    <tr style=\"text-align: right;\">\n",
       "      <th></th>\n",
       "      <th>time</th>\n",
       "      <th>evaltw</th>\n",
       "      <th>funccallnum</th>\n",
       "    </tr>\n",
       "  </thead>\n",
       "  <tbody>\n",
       "    <tr>\n",
       "      <td>1</td>\n",
       "      <td>0.3376901149749756</td>\n",
       "      <td>5.0</td>\n",
       "      <td>4728.0</td>\n",
       "    </tr>\n",
       "    <tr>\n",
       "      <td>4</td>\n",
       "      <td>0.572840690612793</td>\n",
       "      <td>6.0</td>\n",
       "      <td>8273.0</td>\n",
       "    </tr>\n",
       "    <tr>\n",
       "      <td>25</td>\n",
       "      <td>0.2776315212249756</td>\n",
       "      <td>6.0</td>\n",
       "      <td>4716.0</td>\n",
       "    </tr>\n",
       "    <tr>\n",
       "      <td>28</td>\n",
       "      <td>0.29578089714050293</td>\n",
       "      <td>3.0</td>\n",
       "      <td>1548.0</td>\n",
       "    </tr>\n",
       "    <tr>\n",
       "      <td>32</td>\n",
       "      <td>61.76693344116211</td>\n",
       "      <td>12.0</td>\n",
       "      <td>630809.0</td>\n",
       "    </tr>\n",
       "    <tr>\n",
       "      <td>33</td>\n",
       "      <td>0.08192944526672363</td>\n",
       "      <td>2.0</td>\n",
       "      <td>376.0</td>\n",
       "    </tr>\n",
       "    <tr>\n",
       "      <td>35</td>\n",
       "      <td>40.62552881240845</td>\n",
       "      <td>10.0</td>\n",
       "      <td>402916.0</td>\n",
       "    </tr>\n",
       "    <tr>\n",
       "      <td>38</td>\n",
       "      <td>0.024300336837768555</td>\n",
       "      <td>1.0</td>\n",
       "      <td>46.0</td>\n",
       "    </tr>\n",
       "    <tr>\n",
       "      <td>40</td>\n",
       "      <td>0.34940552711486816</td>\n",
       "      <td>4.0</td>\n",
       "      <td>4019.0</td>\n",
       "    </tr>\n",
       "  </tbody>\n",
       "</table>\n",
       "</div>"
      ],
      "text/plain": [
       "                    time  evaltw  funccallnum\n",
       "1     0.3376901149749756     5.0       4728.0\n",
       "4      0.572840690612793     6.0       8273.0\n",
       "25    0.2776315212249756     6.0       4716.0\n",
       "28   0.29578089714050293     3.0       1548.0\n",
       "32     61.76693344116211    12.0     630809.0\n",
       "33   0.08192944526672363     2.0        376.0\n",
       "35     40.62552881240845    10.0     402916.0\n",
       "38  0.024300336837768555     1.0         46.0\n",
       "40   0.34940552711486816     4.0       4019.0"
      ]
     },
     "execution_count": 267,
     "metadata": {},
     "output_type": "execute_result"
    }
   ],
   "source": []
  },
  {
   "cell_type": "code",
   "execution_count": 11,
   "metadata": {},
   "outputs": [
    {
     "data": {
      "image/png": "[encoded data removed]",
      "text/plain": [
       "<Figure size 720x576 with 1 Axes>"
      ]
     },
     "metadata": {
      "needs_background": "light"
     },
     "output_type": "display_data"
    }
   ],
   "source": [
    "plt.rcParams['figure.figsize'] = 10, 8\n",
    "\n",
    "plt.tick_params(labelsize=25)\n",
    "label = [\"Not use GNN\", \"Lower-prune\", \"both\"]\n",
    "y = [402916, 22372,  83]\n",
    "plt.bar([1, 3, 5], y, width=1, tick_label=label, color=[\"cornflowerblue\", \"orange\", \"orange\"])\n",
    "plt.title('Number of Function Calling', fontsize=25)\n",
    "plt.yscale('log')\n",
    "plt.show()"
   ]
  },
  {
   "cell_type": "code",
   "execution_count": 6,
   "metadata": {},
   "outputs": [
    {
     "data": {
      "image/png": "[encoded data removed]",
      "text/plain": [
       "<Figure size 720x576 with 1 Axes>"
      ]
     },
     "metadata": {
      "needs_background": "light"
     },
     "output_type": "display_data"
    }
   ],
   "source": [
    "plt.tick_params(labelsize=24)\n",
    "label = [\"Upper\", \"Lower\", \"Both\", \"Exact\"]\n",
    "plt.bar([1, 2, 3, 4], [114521.0, 84561.0, 100300, 100000], width=0.5, tick_label=label)\n",
    "plt.title('Average of number of Function Calls')\n",
    "plt.show()"
   ]
  },
  {
   "cell_type": "code",
   "execution_count": 171,
   "metadata": {},
   "outputs": [
    {
     "data": {
      "text/html": [
       "<div>\n",
       "<style scoped>\n",
       "    .dataframe tbody tr th:only-of-type {\n",
       "        vertical-align: middle;\n",
       "    }\n",
       "\n",
       "    .dataframe tbody tr th {\n",
       "        vertical-align: top;\n",
       "    }\n",
       "\n",
       "    .dataframe thead th {\n",
       "        text-align: right;\n",
       "    }\n",
       "</style>\n",
       "<table border=\"1\" class=\"dataframe\">\n",
       "  <thead>\n",
       "    <tr style=\"text-align: right;\">\n",
       "      <th></th>\n",
       "      <th>ID</th>\n",
       "      <th>|V|</th>\n",
       "      <th>|E|</th>\n",
       "      <th>tw</th>\n",
       "      <th>time</th>\n",
       "      <th>evaltw</th>\n",
       "      <th>funccallnum</th>\n",
       "    </tr>\n",
       "  </thead>\n",
       "  <tbody>\n",
       "    <tr>\n",
       "      <td>1</td>\n",
       "      <td>1</td>\n",
       "      <td>10</td>\n",
       "      <td>25</td>\n",
       "      <td>5.0</td>\n",
       "      <td>0.3376901149749756</td>\n",
       "      <td>5.0</td>\n",
       "      <td>4728.0</td>\n",
       "    </tr>\n",
       "    <tr>\n",
       "      <td>4</td>\n",
       "      <td>4</td>\n",
       "      <td>10</td>\n",
       "      <td>32</td>\n",
       "      <td>6.0</td>\n",
       "      <td>0.572840690612793</td>\n",
       "      <td>6.0</td>\n",
       "      <td>8273.0</td>\n",
       "    </tr>\n",
       "    <tr>\n",
       "      <td>25</td>\n",
       "      <td>25</td>\n",
       "      <td>9</td>\n",
       "      <td>30</td>\n",
       "      <td>6.0</td>\n",
       "      <td>0.2776315212249756</td>\n",
       "      <td>6.0</td>\n",
       "      <td>4716.0</td>\n",
       "    </tr>\n",
       "    <tr>\n",
       "      <td>28</td>\n",
       "      <td>28</td>\n",
       "      <td>13</td>\n",
       "      <td>30</td>\n",
       "      <td>3.0</td>\n",
       "      <td>0.29578089714050293</td>\n",
       "      <td>3.0</td>\n",
       "      <td>1548.0</td>\n",
       "    </tr>\n",
       "    <tr>\n",
       "      <td>32</td>\n",
       "      <td>32</td>\n",
       "      <td>14</td>\n",
       "      <td>89</td>\n",
       "      <td>12.0</td>\n",
       "      <td>61.76693344116211</td>\n",
       "      <td>12.0</td>\n",
       "      <td>630809.0</td>\n",
       "    </tr>\n",
       "    <tr>\n",
       "      <td>33</td>\n",
       "      <td>33</td>\n",
       "      <td>15</td>\n",
       "      <td>16</td>\n",
       "      <td>2.0</td>\n",
       "      <td>0.08192944526672363</td>\n",
       "      <td>2.0</td>\n",
       "      <td>376.0</td>\n",
       "    </tr>\n",
       "    <tr>\n",
       "      <td>35</td>\n",
       "      <td>35</td>\n",
       "      <td>14</td>\n",
       "      <td>80</td>\n",
       "      <td>10.0</td>\n",
       "      <td>40.62552881240845</td>\n",
       "      <td>10.0</td>\n",
       "      <td>402916.0</td>\n",
       "    </tr>\n",
       "    <tr>\n",
       "      <td>38</td>\n",
       "      <td>38</td>\n",
       "      <td>24</td>\n",
       "      <td>23</td>\n",
       "      <td>1.0</td>\n",
       "      <td>0.024300336837768555</td>\n",
       "      <td>1.0</td>\n",
       "      <td>46.0</td>\n",
       "    </tr>\n",
       "    <tr>\n",
       "      <td>40</td>\n",
       "      <td>40</td>\n",
       "      <td>11</td>\n",
       "      <td>18</td>\n",
       "      <td>4.0</td>\n",
       "      <td>0.34940552711486816</td>\n",
       "      <td>4.0</td>\n",
       "      <td>4019.0</td>\n",
       "    </tr>\n",
       "  </tbody>\n",
       "</table>\n",
       "</div>"
      ],
      "text/plain": [
       "    ID  |V|  |E|    tw                  time  evaltw  funccallnum\n",
       "1    1   10   25   5.0    0.3376901149749756     5.0       4728.0\n",
       "4    4   10   32   6.0     0.572840690612793     6.0       8273.0\n",
       "25  25    9   30   6.0    0.2776315212249756     6.0       4716.0\n",
       "28  28   13   30   3.0   0.29578089714050293     3.0       1548.0\n",
       "32  32   14   89  12.0     61.76693344116211    12.0     630809.0\n",
       "33  33   15   16   2.0   0.08192944526672363     2.0        376.0\n",
       "35  35   14   80  10.0     40.62552881240845    10.0     402916.0\n",
       "38  38   24   23   1.0  0.024300336837768555     1.0         46.0\n",
       "40  40   11   18   4.0   0.34940552711486816     4.0       4019.0"
      ]
     },
     "execution_count": 171,
     "metadata": {},
     "output_type": "execute_result"
    }
   ],
   "source": [
    "7\t8273\t3879\t1867"
   ]
  },
  {
   "cell_type": "code",
   "execution_count": 13,
   "metadata": {},
   "outputs": [
    {
     "data": {
      "image/png": "[encoded data removed]",
      "text/plain": [
       "<Figure size 720x576 with 1 Axes>"
      ]
     },
     "metadata": {
      "needs_background": "light"
     },
     "output_type": "display_data"
    }
   ],
   "source": [
    "plt.rcParams['figure.figsize'] = 10, 8\n",
    "\n",
    "plt.tick_params(labelsize=25)\n",
    "label = [\"Not use GNN\", \"Lower-prune\", \"both\"]\n",
    "y = [8273, 1867,  7]\n",
    "plt.bar([1, 3, 5], y, width=1, tick_label=label, color=[\"cornflowerblue\", \"orange\", \"orange\"])\n",
    "plt.title('Number of Function Calling', fontsize=25)\n",
    "plt.yscale('log')\n",
    "plt.show()"
   ]
  },
  {
   "cell_type": "code",
   "execution_count": null,
   "metadata": {},
   "outputs": [],
   "source": []
  }
 ],
 "metadata": {
  "kernelspec": {
   "display_name": "Python 3",
   "language": "python",
   "name": "python3"
  },
  "language_info": {
   "codemirror_mode": {
    "name": "ipython",
    "version": 3
   },
   "file_extension": ".py",
   "mimetype": "text/x-python",
   "name": "python",
   "nbconvert_exporter": "python",
   "pygments_lexer": "ipython3",
   "version": "3.7.4"
  }
 },
 "nbformat": 4,
 "nbformat_minor": 2
}
